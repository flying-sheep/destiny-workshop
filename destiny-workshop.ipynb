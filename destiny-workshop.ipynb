{
 "cells": [
  {
   "cell_type": "markdown",
   "metadata": {},
   "source": [
    "# Data visualization with destiny\n",
    "\n",
    "## [tiny.cc/destiny-workshop](http://tiny.cc/destiny-workshop)\n",
    "\n",
    "Resources:\n",
    "- [Data processing](https://hemberg-lab.github.io/scRNA.seq.course/introduction-to-rbioconductor.html)\n",
    "- [Scialdone paper](https://www.ncbi.nlm.nih.gov/pmc/articles/PMC4947525/)\n",
    "\n",
    "## Diffusion maps?"
   ]
  },
  {
   "cell_type": "code",
   "execution_count": null,
   "metadata": {},
   "outputs": [],
   "source": [
    "IRdisplay::display_svg(file = 'pca.svg')"
   ]
  },
  {
   "cell_type": "code",
   "execution_count": null,
   "metadata": {},
   "outputs": [],
   "source": [
    "IRdisplay::display_svg(file = 'dpt-explanation.svg')"
   ]
  },
  {
   "cell_type": "markdown",
   "metadata": {},
   "source": [
    "## Introduction"
   ]
  },
  {
   "cell_type": "code",
   "execution_count": null,
   "metadata": {},
   "outputs": [],
   "source": [
    "library(Matrix)\n",
    "library(tidyverse)\n",
    "library(destiny)\n",
    "library(M3Drop)\n",
    "library(pheatmap)\n",
    "suppressPackageStartupMessages(\n",
    "    library(SingleCellExperiment)\n",
    ")"
   ]
  },
  {
   "cell_type": "markdown",
   "metadata": {},
   "source": [
    "Some fixes around bugs and inconveniences in other packages"
   ]
  },
  {
   "cell_type": "code",
   "execution_count": null,
   "metadata": {},
   "outputs": [],
   "source": [
    "c('left_join') %>% map(function(name) {\n",
    "    func <- get(name)\n",
    "    assign(paste0(name, '.DataFrame'), function(x, ...) {\n",
    "        as(func(as.data.frame(x), ...), 'DataFrame')\n",
    "    }, .GlobalEnv)\n",
    "}) %>% invisible\n",
    "\n",
    "setMethod('rowData', 'SingleCellExperiment', function(x, use.names = TRUE) {\n",
    "    r <- callNextMethod()\n",
    "    if (isTRUE(use.names)) rownames(r) <- rownames(x)\n",
    "    r\n",
    "})"
   ]
  },
  {
   "cell_type": "markdown",
   "metadata": {},
   "source": [
    "The clusters in the paper are named. Let’s create a mapping from names to pretty colors"
   ]
  },
  {
   "cell_type": "code",
   "execution_count": null,
   "metadata": {},
   "outputs": [],
   "source": [
    "prettier_colors <- c(\n",
    "    setNames(RColorBrewer::brewer.pal(8, 'Dark2')[c(1,4,6,8)], c('turquoise', 'magenta', 'yellow', 'black')),\n",
    "    setNames(RColorBrewer::brewer.pal(9, 'Set1')[-c(4,6)], c('red', 'blue', 'green', 'darkorange', 'brown', 'pink', 'grey'))\n",
    ")\n",
    "scale_colour_cluster <- function(...) scale_color_manual(values = prettier_colors, ...)\n",
    "scale_fill_cluster   <- function(...)  scale_fill_manual(values = prettier_colors, ...)"
   ]
  },
  {
   "cell_type": "markdown",
   "metadata": {},
   "source": [
    "## Loading the data"
   ]
  },
  {
   "cell_type": "markdown",
   "metadata": {},
   "source": [
    "Let’s load the data. In the future, we’ll use [loomR](https://satijalab.org/loomR/loomR_tutorial.html) to read & write SingleCellExperiments."
   ]
  },
  {
   "cell_type": "code",
   "execution_count": null,
   "metadata": {},
   "outputs": [],
   "source": [
    "scialdone_raw <- readRDS('scialdone-raw.rds')"
   ]
  },
  {
   "cell_type": "markdown",
   "metadata": {},
   "source": [
    "Cleaning and normalization"
   ]
  },
  {
   "cell_type": "code",
   "execution_count": null,
   "metadata": {},
   "outputs": [],
   "source": [
    "cleaned <- M3DropCleanData(\n",
    "    as.matrix(counts(scialdone_raw)),\n",
    "    labels = colnames(scialdone_raw),\n",
    "    min_detected_genes = 100,\n",
    "    is.counts = TRUE\n",
    ")$data"
   ]
  },
  {
   "cell_type": "markdown",
   "metadata": {},
   "source": [
    "**Exercise**: How many genes and cells have been removed by this cleaning?"
   ]
  },
  {
   "cell_type": "code",
   "execution_count": null,
   "metadata": {},
   "outputs": [],
   "source": [
    "scialdone <- SingleCellExperiment(\n",
    "    assays = list(counts = as(cleaned, 'sparseMatrix')),\n",
    "    rowData = rowData(scialdone_raw, use.names = TRUE)[rownames(cleaned), ],\n",
    "    colData = colData(scialdone_raw)[colnames(cleaned), ]\n",
    ")"
   ]
  },
  {
   "cell_type": "code",
   "execution_count": null,
   "metadata": {},
   "outputs": [],
   "source": [
    "logcounts(scialdone) <- log1p(counts(scialdone))"
   ]
  },
  {
   "cell_type": "markdown",
   "metadata": {},
   "source": [
    "## Use a list of interesting genes\n",
    "Let’s add some information."
   ]
  },
  {
   "cell_type": "code",
   "execution_count": null,
   "metadata": {},
   "outputs": [],
   "source": [
    "cluster_sets <- tribble(\n",
    "    ~cluster,    ~CellType,\n",
    "    'brown',     'blood',\n",
    "    'yellow',    'blood',\n",
    "    'turquoise', 'primitive_streak',\n",
    "    'magenta',   'primitive_streak',\n",
    "    'blue',      'primitive_streak'\n",
    ")\n",
    "\n",
    "colData(scialdone)$CellType <-\n",
    "    colData(scialdone) %>%\n",
    "    left_join(cluster_sets, by = 'cluster') %>%\n",
    "    .$CellType"
   ]
  },
  {
   "cell_type": "markdown",
   "metadata": {},
   "source": [
    "**Exercise**: Add information about Gene sets to the `rowData`.\n",
    "\n",
    "- blood: Hbb-bh1, Hba-x\n",
    "- primitive_streak: T, Mixl1, Mesp1, Frzb\n",
    "\n",
    "The information should be in `rowData(scialdone)$GeneSet`"
   ]
  },
  {
   "cell_type": "code",
   "execution_count": null,
   "metadata": {
    "exercise": "solution"
   },
   "outputs": [],
   "source": []
  },
  {
   "cell_type": "code",
   "execution_count": null,
   "metadata": {},
   "outputs": [],
   "source": [
    "scialdone_interesting <- scialdone[\n",
    "    !is.na(rowData(scialdone)$GeneSet),\n",
    "    !is.na(colData(scialdone)$CellType)\n",
    "]\n",
    "\n",
    "colors <- c(\n",
    "    blood            = prettier_colors[['red']],\n",
    "    primitive_streak = prettier_colors[['blue']]\n",
    ")\n",
    "\n",
    "pheatmap(\n",
    "    t(logcounts(scialdone_interesting)),\n",
    "    color = viridis::inferno(255),\n",
    "    labels_row = rep('', ncol(scialdone_interesting)),\n",
    "    annotation_row = as.data.frame(colData(scialdone_interesting)['CellType']),\n",
    "    labels_col = rowData(scialdone_interesting)$Symbol,\n",
    "    annotation_col = as.data.frame(rowData(scialdone_interesting)['GeneSet']),\n",
    "    annotation_colors = list(GeneSet = colors, CellType = colors)\n",
    ")"
   ]
  },
  {
   "cell_type": "markdown",
   "metadata": {},
   "source": [
    "**Exercise**: Modify the code above to plot another cell annotation. Look at the `colData` of the data container to find out which ones exist."
   ]
  },
  {
   "cell_type": "code",
   "execution_count": null,
   "metadata": {},
   "outputs": [],
   "source": [
    "dm_interesting <- DiffusionMap(scialdone_interesting)"
   ]
  },
  {
   "cell_type": "code",
   "execution_count": null,
   "metadata": {},
   "outputs": [],
   "source": [
    "plot(dm_interesting, 1:2, col_by = 'cluster') + scale_fill_cluster()\n",
    "# ~= ggplot(dm, aes(DC1, DC2, colour = cluster)) + geom_point() + scale_colour_cluster()"
   ]
  },
  {
   "cell_type": "markdown",
   "metadata": {},
   "source": [
    "## Gene Relevance"
   ]
  },
  {
   "cell_type": "code",
   "execution_count": null,
   "metadata": {},
   "outputs": [],
   "source": [
    "gr <- gene_relevance(dm_interesting, dims = 1:2)\n",
    "featureNames(gr) <- rowData(scialdone_interesting)$Symbol"
   ]
  },
  {
   "cell_type": "code",
   "execution_count": null,
   "metadata": {},
   "outputs": [],
   "source": [
    "plot(gr)$ids\n",
    "plot(gr)"
   ]
  },
  {
   "cell_type": "markdown",
   "metadata": {},
   "source": [
    "# Use highly variable genes\n",
    "\n",
    "**Exercise**: use <code>[BrenneckeGetVariableGenes](https://rdrr.io/bioc/M3Drop/man/Brennecke_getVariableGenes.html)</code> to create a `scialdone_hvg` SingleCellExperiment with further reduced genes.\n",
    "\n",
    "Use the normalized and logarithmized counts from the `scialdone` SingleCellExperiment."
   ]
  },
  {
   "cell_type": "code",
   "execution_count": null,
   "metadata": {
    "exercise": "solution"
   },
   "outputs": [],
   "source": []
  },
  {
   "cell_type": "code",
   "execution_count": null,
   "metadata": {},
   "outputs": [],
   "source": [
    "dm <- DiffusionMap(scialdone_hvg, distance = 'rankcor')"
   ]
  },
  {
   "cell_type": "code",
   "execution_count": null,
   "metadata": {},
   "outputs": [],
   "source": [
    "plot(dm, 1:2, col_by = 'cluster') + scale_fill_cluster()"
   ]
  },
  {
   "cell_type": "markdown",
   "metadata": {},
   "source": [
    "**Exercise**: Create a DPT object for one of the datasets and plot it. Also consult the `dim.DPT` help page (execute `?dim.DPT`) to get the DPT distances from cell 20 to all other cells"
   ]
  },
  {
   "cell_type": "code",
   "execution_count": null,
   "metadata": {},
   "outputs": [],
   "source": []
  },
  {
   "cell_type": "markdown",
   "metadata": {},
   "source": [
    "**Exercise**: Create a `gene_relevance` object and plot the gradient map from it (`plot_gradient_map`)"
   ]
  },
  {
   "cell_type": "code",
   "execution_count": null,
   "metadata": {},
   "outputs": [],
   "source": []
  }
 ],
 "metadata": {
  "kernelspec": {
   "display_name": "R",
   "language": "R",
   "name": "ir"
  },
  "language_info": {
   "codemirror_mode": "r",
   "file_extension": ".r",
   "mimetype": "text/x-r-source",
   "name": "R",
   "pygments_lexer": "r",
   "version": "3.5.0"
  }
 },
 "nbformat": 4,
 "nbformat_minor": 2
}